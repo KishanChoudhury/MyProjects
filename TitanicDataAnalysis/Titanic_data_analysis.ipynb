{
 "cells": [
  {
   "cell_type": "markdown",
   "metadata": {},
   "source": [
    "Author: Kishan Choudhury"
   ]
  },
  {
   "cell_type": "markdown",
   "metadata": {},
   "source": [
    "Introduction:\n",
    "\n",
    "The following is an analysis of a dataset of passengers aboard the Titanic. The description of the dataset is present in the \n",
    "below link:\n",
    "\n",
    "https://www.kaggle.com/c/titanic/data\n",
    "\n",
    "In this analysis, we are going to think of some interesting questions and then explore the data with the intention of answering those questions."
   ]
  },
  {
   "cell_type": "code",
   "execution_count": 116,
   "metadata": {
    "collapsed": false
   },
   "outputs": [
    {
     "data": {
      "text/html": [
       "<div>\n",
       "<table border=\"1\" class=\"dataframe\">\n",
       "  <thead>\n",
       "    <tr style=\"text-align: right;\">\n",
       "      <th></th>\n",
       "      <th>PassengerId</th>\n",
       "      <th>Survived</th>\n",
       "      <th>Pclass</th>\n",
       "      <th>Name</th>\n",
       "      <th>Sex</th>\n",
       "      <th>Age</th>\n",
       "      <th>SibSp</th>\n",
       "      <th>Parch</th>\n",
       "      <th>Ticket</th>\n",
       "      <th>Fare</th>\n",
       "      <th>Cabin</th>\n",
       "      <th>Embarked</th>\n",
       "    </tr>\n",
       "  </thead>\n",
       "  <tbody>\n",
       "    <tr>\n",
       "      <th>0</th>\n",
       "      <td>1</td>\n",
       "      <td>0</td>\n",
       "      <td>3</td>\n",
       "      <td>Braund, Mr. Owen Harris</td>\n",
       "      <td>male</td>\n",
       "      <td>22.0</td>\n",
       "      <td>1</td>\n",
       "      <td>0</td>\n",
       "      <td>A/5 21171</td>\n",
       "      <td>7.2500</td>\n",
       "      <td>NaN</td>\n",
       "      <td>S</td>\n",
       "    </tr>\n",
       "    <tr>\n",
       "      <th>1</th>\n",
       "      <td>2</td>\n",
       "      <td>1</td>\n",
       "      <td>1</td>\n",
       "      <td>Cumings, Mrs. John Bradley (Florence Briggs Th...</td>\n",
       "      <td>female</td>\n",
       "      <td>38.0</td>\n",
       "      <td>1</td>\n",
       "      <td>0</td>\n",
       "      <td>PC 17599</td>\n",
       "      <td>71.2833</td>\n",
       "      <td>C85</td>\n",
       "      <td>C</td>\n",
       "    </tr>\n",
       "    <tr>\n",
       "      <th>2</th>\n",
       "      <td>3</td>\n",
       "      <td>1</td>\n",
       "      <td>3</td>\n",
       "      <td>Heikkinen, Miss. Laina</td>\n",
       "      <td>female</td>\n",
       "      <td>26.0</td>\n",
       "      <td>0</td>\n",
       "      <td>0</td>\n",
       "      <td>STON/O2. 3101282</td>\n",
       "      <td>7.9250</td>\n",
       "      <td>NaN</td>\n",
       "      <td>S</td>\n",
       "    </tr>\n",
       "    <tr>\n",
       "      <th>3</th>\n",
       "      <td>4</td>\n",
       "      <td>1</td>\n",
       "      <td>1</td>\n",
       "      <td>Futrelle, Mrs. Jacques Heath (Lily May Peel)</td>\n",
       "      <td>female</td>\n",
       "      <td>35.0</td>\n",
       "      <td>1</td>\n",
       "      <td>0</td>\n",
       "      <td>113803</td>\n",
       "      <td>53.1000</td>\n",
       "      <td>C123</td>\n",
       "      <td>S</td>\n",
       "    </tr>\n",
       "    <tr>\n",
       "      <th>4</th>\n",
       "      <td>5</td>\n",
       "      <td>0</td>\n",
       "      <td>3</td>\n",
       "      <td>Allen, Mr. William Henry</td>\n",
       "      <td>male</td>\n",
       "      <td>35.0</td>\n",
       "      <td>0</td>\n",
       "      <td>0</td>\n",
       "      <td>373450</td>\n",
       "      <td>8.0500</td>\n",
       "      <td>NaN</td>\n",
       "      <td>S</td>\n",
       "    </tr>\n",
       "  </tbody>\n",
       "</table>\n",
       "</div>"
      ],
      "text/plain": [
       "   PassengerId  Survived  Pclass  \\\n",
       "0            1         0       3   \n",
       "1            2         1       1   \n",
       "2            3         1       3   \n",
       "3            4         1       1   \n",
       "4            5         0       3   \n",
       "\n",
       "                                                Name     Sex   Age  SibSp  \\\n",
       "0                            Braund, Mr. Owen Harris    male  22.0      1   \n",
       "1  Cumings, Mrs. John Bradley (Florence Briggs Th...  female  38.0      1   \n",
       "2                             Heikkinen, Miss. Laina  female  26.0      0   \n",
       "3       Futrelle, Mrs. Jacques Heath (Lily May Peel)  female  35.0      1   \n",
       "4                           Allen, Mr. William Henry    male  35.0      0   \n",
       "\n",
       "   Parch            Ticket     Fare Cabin Embarked  \n",
       "0      0         A/5 21171   7.2500   NaN        S  \n",
       "1      0          PC 17599  71.2833   C85        C  \n",
       "2      0  STON/O2. 3101282   7.9250   NaN        S  \n",
       "3      0            113803  53.1000  C123        S  \n",
       "4      0            373450   8.0500   NaN        S  "
      ]
     },
     "execution_count": 116,
     "metadata": {},
     "output_type": "execute_result"
    }
   ],
   "source": [
    "import pandas as pd\n",
    "import numpy as np\n",
    "#file placed in the folder from where ipython notebook has been started\n",
    "Titanic_data=pd.read_csv('titanic_data.csv',header=0)\n",
    "#checking sample rows\n",
    "Titanic_data.head()"
   ]
  },
  {
   "cell_type": "markdown",
   "metadata": {},
   "source": [
    "Questions to be Answered:\n",
    "1.What factors affect the survival of a passenger? Does survival depend on Age,Sex,Pclass?"
   ]
  },
  {
   "cell_type": "code",
   "execution_count": 117,
   "metadata": {
    "collapsed": false
   },
   "outputs": [
    {
     "data": {
      "text/html": [
       "<div>\n",
       "<table border=\"1\" class=\"dataframe\">\n",
       "  <thead>\n",
       "    <tr style=\"text-align: right;\">\n",
       "      <th></th>\n",
       "      <th>PassengerId</th>\n",
       "      <th>Survived</th>\n",
       "      <th>Pclass</th>\n",
       "      <th>Age</th>\n",
       "      <th>SibSp</th>\n",
       "      <th>Parch</th>\n",
       "      <th>Fare</th>\n",
       "    </tr>\n",
       "  </thead>\n",
       "  <tbody>\n",
       "    <tr>\n",
       "      <th>count</th>\n",
       "      <td>891.000000</td>\n",
       "      <td>891.000000</td>\n",
       "      <td>891.000000</td>\n",
       "      <td>714.000000</td>\n",
       "      <td>891.000000</td>\n",
       "      <td>891.000000</td>\n",
       "      <td>891.000000</td>\n",
       "    </tr>\n",
       "    <tr>\n",
       "      <th>mean</th>\n",
       "      <td>446.000000</td>\n",
       "      <td>0.383838</td>\n",
       "      <td>2.308642</td>\n",
       "      <td>29.699118</td>\n",
       "      <td>0.523008</td>\n",
       "      <td>0.381594</td>\n",
       "      <td>32.204208</td>\n",
       "    </tr>\n",
       "    <tr>\n",
       "      <th>std</th>\n",
       "      <td>257.353842</td>\n",
       "      <td>0.486592</td>\n",
       "      <td>0.836071</td>\n",
       "      <td>14.526497</td>\n",
       "      <td>1.102743</td>\n",
       "      <td>0.806057</td>\n",
       "      <td>49.693429</td>\n",
       "    </tr>\n",
       "    <tr>\n",
       "      <th>min</th>\n",
       "      <td>1.000000</td>\n",
       "      <td>0.000000</td>\n",
       "      <td>1.000000</td>\n",
       "      <td>0.420000</td>\n",
       "      <td>0.000000</td>\n",
       "      <td>0.000000</td>\n",
       "      <td>0.000000</td>\n",
       "    </tr>\n",
       "    <tr>\n",
       "      <th>25%</th>\n",
       "      <td>223.500000</td>\n",
       "      <td>0.000000</td>\n",
       "      <td>2.000000</td>\n",
       "      <td>20.125000</td>\n",
       "      <td>0.000000</td>\n",
       "      <td>0.000000</td>\n",
       "      <td>7.910400</td>\n",
       "    </tr>\n",
       "    <tr>\n",
       "      <th>50%</th>\n",
       "      <td>446.000000</td>\n",
       "      <td>0.000000</td>\n",
       "      <td>3.000000</td>\n",
       "      <td>28.000000</td>\n",
       "      <td>0.000000</td>\n",
       "      <td>0.000000</td>\n",
       "      <td>14.454200</td>\n",
       "    </tr>\n",
       "    <tr>\n",
       "      <th>75%</th>\n",
       "      <td>668.500000</td>\n",
       "      <td>1.000000</td>\n",
       "      <td>3.000000</td>\n",
       "      <td>38.000000</td>\n",
       "      <td>1.000000</td>\n",
       "      <td>0.000000</td>\n",
       "      <td>31.000000</td>\n",
       "    </tr>\n",
       "    <tr>\n",
       "      <th>max</th>\n",
       "      <td>891.000000</td>\n",
       "      <td>1.000000</td>\n",
       "      <td>3.000000</td>\n",
       "      <td>80.000000</td>\n",
       "      <td>8.000000</td>\n",
       "      <td>6.000000</td>\n",
       "      <td>512.329200</td>\n",
       "    </tr>\n",
       "  </tbody>\n",
       "</table>\n",
       "</div>"
      ],
      "text/plain": [
       "       PassengerId    Survived      Pclass         Age       SibSp  \\\n",
       "count   891.000000  891.000000  891.000000  714.000000  891.000000   \n",
       "mean    446.000000    0.383838    2.308642   29.699118    0.523008   \n",
       "std     257.353842    0.486592    0.836071   14.526497    1.102743   \n",
       "min       1.000000    0.000000    1.000000    0.420000    0.000000   \n",
       "25%     223.500000    0.000000    2.000000   20.125000    0.000000   \n",
       "50%     446.000000    0.000000    3.000000   28.000000    0.000000   \n",
       "75%     668.500000    1.000000    3.000000   38.000000    1.000000   \n",
       "max     891.000000    1.000000    3.000000   80.000000    8.000000   \n",
       "\n",
       "            Parch        Fare  \n",
       "count  891.000000  891.000000  \n",
       "mean     0.381594   32.204208  \n",
       "std      0.806057   49.693429  \n",
       "min      0.000000    0.000000  \n",
       "25%      0.000000    7.910400  \n",
       "50%      0.000000   14.454200  \n",
       "75%      0.000000   31.000000  \n",
       "max      6.000000  512.329200  "
      ]
     },
     "execution_count": 117,
     "metadata": {},
     "output_type": "execute_result"
    }
   ],
   "source": [
    "#Get basic statistics\n",
    "Titanic_data.describe()"
   ]
  },
  {
   "cell_type": "markdown",
   "metadata": {
    "collapsed": false
   },
   "source": [
    "#Observations:\n",
    "The total count of Age is 714 , which is different as compared to other columns.\n",
    "After going through the file, we see that there are lots of blank values for age.\n",
    "#Resolution:\n",
    "\n",
    "-Need to replace blank with Mean age of group. It would make sense to replace blank value for females with mean for females, blank for males with mean for males\n",
    "\n",
    "-Age is a continuous dimension. We can split it into groups so that individuals can be fit into various age groups.\n",
    "\n"
   ]
  },
  {
   "cell_type": "code",
   "execution_count": 118,
   "metadata": {
    "collapsed": false
   },
   "outputs": [
    {
     "data": {
      "text/html": [
       "<div>\n",
       "<table border=\"1\" class=\"dataframe\">\n",
       "  <thead>\n",
       "    <tr style=\"text-align: right;\">\n",
       "      <th></th>\n",
       "      <th>PassengerId</th>\n",
       "      <th>Survived</th>\n",
       "      <th>Pclass</th>\n",
       "      <th>Age</th>\n",
       "      <th>SibSp</th>\n",
       "      <th>Parch</th>\n",
       "      <th>Fare</th>\n",
       "    </tr>\n",
       "  </thead>\n",
       "  <tbody>\n",
       "    <tr>\n",
       "      <th>count</th>\n",
       "      <td>891.000000</td>\n",
       "      <td>891.000000</td>\n",
       "      <td>891.000000</td>\n",
       "      <td>891.000000</td>\n",
       "      <td>891.000000</td>\n",
       "      <td>891.000000</td>\n",
       "      <td>891.000000</td>\n",
       "    </tr>\n",
       "    <tr>\n",
       "      <th>mean</th>\n",
       "      <td>446.000000</td>\n",
       "      <td>0.383838</td>\n",
       "      <td>2.308642</td>\n",
       "      <td>29.736034</td>\n",
       "      <td>0.523008</td>\n",
       "      <td>0.381594</td>\n",
       "      <td>32.204208</td>\n",
       "    </tr>\n",
       "    <tr>\n",
       "      <th>std</th>\n",
       "      <td>257.353842</td>\n",
       "      <td>0.486592</td>\n",
       "      <td>0.836071</td>\n",
       "      <td>13.014897</td>\n",
       "      <td>1.102743</td>\n",
       "      <td>0.806057</td>\n",
       "      <td>49.693429</td>\n",
       "    </tr>\n",
       "    <tr>\n",
       "      <th>min</th>\n",
       "      <td>1.000000</td>\n",
       "      <td>0.000000</td>\n",
       "      <td>1.000000</td>\n",
       "      <td>0.420000</td>\n",
       "      <td>0.000000</td>\n",
       "      <td>0.000000</td>\n",
       "      <td>0.000000</td>\n",
       "    </tr>\n",
       "    <tr>\n",
       "      <th>25%</th>\n",
       "      <td>223.500000</td>\n",
       "      <td>0.000000</td>\n",
       "      <td>2.000000</td>\n",
       "      <td>22.000000</td>\n",
       "      <td>0.000000</td>\n",
       "      <td>0.000000</td>\n",
       "      <td>7.910400</td>\n",
       "    </tr>\n",
       "    <tr>\n",
       "      <th>50%</th>\n",
       "      <td>446.000000</td>\n",
       "      <td>0.000000</td>\n",
       "      <td>3.000000</td>\n",
       "      <td>30.000000</td>\n",
       "      <td>0.000000</td>\n",
       "      <td>0.000000</td>\n",
       "      <td>14.454200</td>\n",
       "    </tr>\n",
       "    <tr>\n",
       "      <th>75%</th>\n",
       "      <td>668.500000</td>\n",
       "      <td>1.000000</td>\n",
       "      <td>3.000000</td>\n",
       "      <td>35.000000</td>\n",
       "      <td>1.000000</td>\n",
       "      <td>0.000000</td>\n",
       "      <td>31.000000</td>\n",
       "    </tr>\n",
       "    <tr>\n",
       "      <th>max</th>\n",
       "      <td>891.000000</td>\n",
       "      <td>1.000000</td>\n",
       "      <td>3.000000</td>\n",
       "      <td>80.000000</td>\n",
       "      <td>8.000000</td>\n",
       "      <td>6.000000</td>\n",
       "      <td>512.329200</td>\n",
       "    </tr>\n",
       "  </tbody>\n",
       "</table>\n",
       "</div>"
      ],
      "text/plain": [
       "       PassengerId    Survived      Pclass         Age       SibSp  \\\n",
       "count   891.000000  891.000000  891.000000  891.000000  891.000000   \n",
       "mean    446.000000    0.383838    2.308642   29.736034    0.523008   \n",
       "std     257.353842    0.486592    0.836071   13.014897    1.102743   \n",
       "min       1.000000    0.000000    1.000000    0.420000    0.000000   \n",
       "25%     223.500000    0.000000    2.000000   22.000000    0.000000   \n",
       "50%     446.000000    0.000000    3.000000   30.000000    0.000000   \n",
       "75%     668.500000    1.000000    3.000000   35.000000    1.000000   \n",
       "max     891.000000    1.000000    3.000000   80.000000    8.000000   \n",
       "\n",
       "            Parch        Fare  \n",
       "count  891.000000  891.000000  \n",
       "mean     0.381594   32.204208  \n",
       "std      0.806057   49.693429  \n",
       "min      0.000000    0.000000  \n",
       "25%      0.000000    7.910400  \n",
       "50%      0.000000   14.454200  \n",
       "75%      0.000000   31.000000  \n",
       "max      6.000000  512.329200  "
      ]
     },
     "execution_count": 118,
     "metadata": {},
     "output_type": "execute_result"
    }
   ],
   "source": [
    "#data wrangling:\n",
    "#Step1\n",
    "#Replace Blank Values by Age by Mean of Age for that group\n",
    "\n",
    "grouped_data=Titanic_data.groupby('Sex')\n",
    "\n",
    "female_avg_age=grouped_data['Age'].get_group('female').mean()\n",
    "male_avg_age=grouped_data['Age'].get_group('male').mean()\n",
    "\n",
    "#setting male and female blanks with the means calculated in previous step\n",
    "Titanic_data.ix[(Titanic_data.Sex=='male')&(Titanic_data.Age.isnull()),'Age']=male_avg_age\n",
    "Titanic_data.ix[(Titanic_data.Sex=='female')&(Titanic_data.Age.isnull()),'Age']=female_avg_age\n",
    "Titanic_data.describe()\n",
    "\n"
   ]
  },
  {
   "cell_type": "code",
   "execution_count": 119,
   "metadata": {
    "collapsed": false
   },
   "outputs": [
    {
     "data": {
      "text/html": [
       "<div>\n",
       "<table border=\"1\" class=\"dataframe\">\n",
       "  <thead>\n",
       "    <tr style=\"text-align: right;\">\n",
       "      <th></th>\n",
       "      <th>PassengerId</th>\n",
       "      <th>Survived</th>\n",
       "      <th>Pclass</th>\n",
       "      <th>Name</th>\n",
       "      <th>Sex</th>\n",
       "      <th>Age</th>\n",
       "      <th>SibSp</th>\n",
       "      <th>Parch</th>\n",
       "      <th>Ticket</th>\n",
       "      <th>Fare</th>\n",
       "      <th>Cabin</th>\n",
       "      <th>Embarked</th>\n",
       "      <th>Age_group</th>\n",
       "    </tr>\n",
       "  </thead>\n",
       "  <tbody>\n",
       "    <tr>\n",
       "      <th>0</th>\n",
       "      <td>1</td>\n",
       "      <td>0</td>\n",
       "      <td>3</td>\n",
       "      <td>Braund, Mr. Owen Harris</td>\n",
       "      <td>male</td>\n",
       "      <td>22.0</td>\n",
       "      <td>1</td>\n",
       "      <td>0</td>\n",
       "      <td>A/5 21171</td>\n",
       "      <td>7.2500</td>\n",
       "      <td>NaN</td>\n",
       "      <td>S</td>\n",
       "      <td>20-29</td>\n",
       "    </tr>\n",
       "    <tr>\n",
       "      <th>1</th>\n",
       "      <td>2</td>\n",
       "      <td>1</td>\n",
       "      <td>1</td>\n",
       "      <td>Cumings, Mrs. John Bradley (Florence Briggs Th...</td>\n",
       "      <td>female</td>\n",
       "      <td>38.0</td>\n",
       "      <td>1</td>\n",
       "      <td>0</td>\n",
       "      <td>PC 17599</td>\n",
       "      <td>71.2833</td>\n",
       "      <td>C85</td>\n",
       "      <td>C</td>\n",
       "      <td>30-39</td>\n",
       "    </tr>\n",
       "    <tr>\n",
       "      <th>2</th>\n",
       "      <td>3</td>\n",
       "      <td>1</td>\n",
       "      <td>3</td>\n",
       "      <td>Heikkinen, Miss. Laina</td>\n",
       "      <td>female</td>\n",
       "      <td>26.0</td>\n",
       "      <td>0</td>\n",
       "      <td>0</td>\n",
       "      <td>STON/O2. 3101282</td>\n",
       "      <td>7.9250</td>\n",
       "      <td>NaN</td>\n",
       "      <td>S</td>\n",
       "      <td>20-29</td>\n",
       "    </tr>\n",
       "    <tr>\n",
       "      <th>3</th>\n",
       "      <td>4</td>\n",
       "      <td>1</td>\n",
       "      <td>1</td>\n",
       "      <td>Futrelle, Mrs. Jacques Heath (Lily May Peel)</td>\n",
       "      <td>female</td>\n",
       "      <td>35.0</td>\n",
       "      <td>1</td>\n",
       "      <td>0</td>\n",
       "      <td>113803</td>\n",
       "      <td>53.1000</td>\n",
       "      <td>C123</td>\n",
       "      <td>S</td>\n",
       "      <td>30-39</td>\n",
       "    </tr>\n",
       "    <tr>\n",
       "      <th>4</th>\n",
       "      <td>5</td>\n",
       "      <td>0</td>\n",
       "      <td>3</td>\n",
       "      <td>Allen, Mr. William Henry</td>\n",
       "      <td>male</td>\n",
       "      <td>35.0</td>\n",
       "      <td>0</td>\n",
       "      <td>0</td>\n",
       "      <td>373450</td>\n",
       "      <td>8.0500</td>\n",
       "      <td>NaN</td>\n",
       "      <td>S</td>\n",
       "      <td>30-39</td>\n",
       "    </tr>\n",
       "  </tbody>\n",
       "</table>\n",
       "</div>"
      ],
      "text/plain": [
       "   PassengerId  Survived  Pclass  \\\n",
       "0            1         0       3   \n",
       "1            2         1       1   \n",
       "2            3         1       3   \n",
       "3            4         1       1   \n",
       "4            5         0       3   \n",
       "\n",
       "                                                Name     Sex   Age  SibSp  \\\n",
       "0                            Braund, Mr. Owen Harris    male  22.0      1   \n",
       "1  Cumings, Mrs. John Bradley (Florence Briggs Th...  female  38.0      1   \n",
       "2                             Heikkinen, Miss. Laina  female  26.0      0   \n",
       "3       Futrelle, Mrs. Jacques Heath (Lily May Peel)  female  35.0      1   \n",
       "4                           Allen, Mr. William Henry    male  35.0      0   \n",
       "\n",
       "   Parch            Ticket     Fare Cabin Embarked Age_group  \n",
       "0      0         A/5 21171   7.2500   NaN        S     20-29  \n",
       "1      0          PC 17599  71.2833   C85        C     30-39  \n",
       "2      0  STON/O2. 3101282   7.9250   NaN        S     20-29  \n",
       "3      0            113803  53.1000  C123        S     30-39  \n",
       "4      0            373450   8.0500   NaN        S     30-39  "
      ]
     },
     "execution_count": 119,
     "metadata": {},
     "output_type": "execute_result"
    }
   ],
   "source": [
    "#Data Wrangling Step 2: Create a column Age_group which splits the Age into various groups\n",
    "#function to convert each Age value\n",
    "def map_age_to_group(x):\n",
    "    if x<10:\n",
    "        return '0-9'\n",
    "    elif x<20:\n",
    "        return '10-19'\n",
    "    elif x<30:\n",
    "        return '20-29'\n",
    "    elif x<40:\n",
    "        return '30-39'\n",
    "    elif x<50:\n",
    "        return '40-49'\n",
    "    elif x<60:\n",
    "        return '50-59'\n",
    "    elif x<70:\n",
    "        return '60-69'\n",
    "    elif x<80:\n",
    "        return '70-79'\n",
    "    else:\n",
    "        return '80+'\n",
    "\n",
    "#function to convert a series    \n",
    "def convert_Age_series_to_Age_group(Age):\n",
    "    return Age.apply(map_age_to_group)\n",
    "\n",
    "Age_group=convert_Age_series_to_Age_group(Titanic_data['Age'])\n",
    "#Adding the column to the original dataframe\n",
    "Titanic_data['Age_group'] = Age_group\n",
    "Titanic_data.head()\n",
    "    \n"
   ]
  },
  {
   "cell_type": "code",
   "execution_count": 120,
   "metadata": {
    "collapsed": false
   },
   "outputs": [
    {
     "name": "stdout",
     "output_type": "stream",
     "text": [
      "Populating the interactive namespace from numpy and matplotlib\n"
     ]
    },
    {
     "name": "stderr",
     "output_type": "stream",
     "text": [
      "WARNING: pylab import has clobbered these variables: ['random']\n",
      "`%matplotlib` prevents importing * from pylab and numpy\n"
     ]
    },
    {
     "data": {
      "image/png": "[encoded data removed]",
      "text/plain": [
       "<matplotlib.figure.Figure at 0xe318ba8>"
      ]
     },
     "metadata": {},
     "output_type": "display_data"
    }
   ],
   "source": [
    "#Analysis of dependency on Age\n",
    "#We create a stacked bar chart to analyze the dependency\n",
    "\n",
    "%pylab inline\n",
    "Age_dependency=Titanic_data.groupby(['Age_group','Survived'])['PassengerId'].count().unstack().fillna(0)\n",
    "Age_dependency.plot(kind='bar',stacked=True)\n",
    "pylab.ylabel('Number of passengers')\n",
    "pylab.title('Chart: Number of Passengers per Age group')\n",
    "show()\n"
   ]
  },
  {
   "cell_type": "markdown",
   "metadata": {},
   "source": [
    "Inference: For every age group, the ratio of Survived : Not Survived seems to be almost the same.\n",
    "To be sure, lets find the percentage of survivors within every age group"
   ]
  },
  {
   "cell_type": "code",
   "execution_count": 121,
   "metadata": {
    "collapsed": false
   },
   "outputs": [
    {
     "data": {
      "text/html": [
       "<div>\n",
       "<table border=\"1\" class=\"dataframe\">\n",
       "  <thead>\n",
       "    <tr style=\"text-align: right;\">\n",
       "      <th>Survived</th>\n",
       "      <th>0</th>\n",
       "      <th>1</th>\n",
       "    </tr>\n",
       "    <tr>\n",
       "      <th>Age_group</th>\n",
       "      <th></th>\n",
       "      <th></th>\n",
       "    </tr>\n",
       "  </thead>\n",
       "  <tbody>\n",
       "    <tr>\n",
       "      <th>0-9</th>\n",
       "      <td>0.387097</td>\n",
       "      <td>0.612903</td>\n",
       "    </tr>\n",
       "    <tr>\n",
       "      <th>10-19</th>\n",
       "      <td>0.598039</td>\n",
       "      <td>0.401961</td>\n",
       "    </tr>\n",
       "    <tr>\n",
       "      <th>20-29</th>\n",
       "      <td>0.586081</td>\n",
       "      <td>0.413919</td>\n",
       "    </tr>\n",
       "    <tr>\n",
       "      <th>30-39</th>\n",
       "      <td>0.694158</td>\n",
       "      <td>0.305842</td>\n",
       "    </tr>\n",
       "    <tr>\n",
       "      <th>40-49</th>\n",
       "      <td>0.617978</td>\n",
       "      <td>0.382022</td>\n",
       "    </tr>\n",
       "    <tr>\n",
       "      <th>50-59</th>\n",
       "      <td>0.583333</td>\n",
       "      <td>0.416667</td>\n",
       "    </tr>\n",
       "    <tr>\n",
       "      <th>60-69</th>\n",
       "      <td>0.684211</td>\n",
       "      <td>0.315789</td>\n",
       "    </tr>\n",
       "    <tr>\n",
       "      <th>70-79</th>\n",
       "      <td>1.000000</td>\n",
       "      <td>0.000000</td>\n",
       "    </tr>\n",
       "    <tr>\n",
       "      <th>80+</th>\n",
       "      <td>0.000000</td>\n",
       "      <td>1.000000</td>\n",
       "    </tr>\n",
       "  </tbody>\n",
       "</table>\n",
       "</div>"
      ],
      "text/plain": [
       "Survived          0         1\n",
       "Age_group                    \n",
       "0-9        0.387097  0.612903\n",
       "10-19      0.598039  0.401961\n",
       "20-29      0.586081  0.413919\n",
       "30-39      0.694158  0.305842\n",
       "40-49      0.617978  0.382022\n",
       "50-59      0.583333  0.416667\n",
       "60-69      0.684211  0.315789\n",
       "70-79      1.000000  0.000000\n",
       "80+        0.000000  1.000000"
      ]
     },
     "execution_count": 121,
     "metadata": {},
     "output_type": "execute_result"
    }
   ],
   "source": [
    "Age_dependency['Total']=Age_dependency.sum(axis=1)\n",
    "\n",
    "Age_dependency.ix[:,[0,1]].div(Age_dependency['Total'],axis=0)\n",
    "\n"
   ]
  },
  {
   "cell_type": "markdown",
   "metadata": {
    "collapsed": true
   },
   "source": [
    "Inference: \n",
    "The only interesting figure is that for Age_group 0-9 the Survival percentage is significantly higher compared to\n",
    "rest of the groups. So, we can see that preference was given to children.\n",
    "Apart from that, there are no patterns here."
   ]
  },
  {
   "cell_type": "code",
   "execution_count": 122,
   "metadata": {
    "collapsed": false
   },
   "outputs": [
    {
     "data": {
      "image/png": "[encoded data removed]",
      "text/plain": [
       "<matplotlib.figure.Figure at 0xd759b38>"
      ]
     },
     "metadata": {},
     "output_type": "display_data"
    }
   ],
   "source": [
    "#Analyze correlation between sex of the individual and whether the person survived\n",
    "Titanic_data.groupby(['Sex','Survived'])['PassengerId'].count().unstack().plot(kind='bar',stacked=True)\n",
    "pylab.xlabel('Gender')\n",
    "pylab.ylabel('Number of Passengers')\n",
    "pylab.title('Chart: Number of Passengers per Gender')\n",
    "show()\n"
   ]
  },
  {
   "cell_type": "code",
   "execution_count": 123,
   "metadata": {
    "collapsed": false
   },
   "outputs": [
    {
     "data": {
      "image/png": "[encoded data removed]",
      "text/plain": [
       "<matplotlib.figure.Figure at 0xe318470>"
      ]
     },
     "metadata": {},
     "output_type": "display_data"
    },
    {
     "data": {
      "image/png": "[encoded data removed]",
      "text/plain": [
       "<matplotlib.figure.Figure at 0xf03cb00>"
      ]
     },
     "metadata": {},
     "output_type": "display_data"
    }
   ],
   "source": [
    "#Let's look at this from another perspective. Lets try to see the ratio of males to females in the survivors\n",
    "\n",
    "Titanic_data[Titanic_data['Survived']==1].groupby('Sex')['PassengerId'].count().plot(kind='pie')\n",
    "pylab.title(\"Male and Female ratio within Survivor group\")\n",
    "pylab.ylabel('')\n",
    "show()\n",
    "Titanic_data.groupby('Sex')['PassengerId'].count().plot(kind='pie')\n",
    "pylab.title(\"Male and Female ratio aboard the ship\")\n",
    "pylab.ylabel('')\n",
    "show()"
   ]
  },
  {
   "cell_type": "markdown",
   "metadata": {},
   "source": [
    "Inference: Even though the total number of males is much higher than the total number of females aboard the ship, \n",
    "but when it comes to survivors, the total number of female survivors is much higher than the total number of male survivors.\n",
    "So, females were given preference."
   ]
  },
  {
   "cell_type": "code",
   "execution_count": 124,
   "metadata": {
    "collapsed": false
   },
   "outputs": [
    {
     "data": {
      "text/plain": [
       "<matplotlib.text.Text at 0xf5a4390>"
      ]
     },
     "execution_count": 124,
     "metadata": {},
     "output_type": "execute_result"
    },
    {
     "data": {
      "image/png": "[encoded data removed]",
      "text/plain": [
       "<matplotlib.figure.Figure at 0xe318048>"
      ]
     },
     "metadata": {},
     "output_type": "display_data"
    }
   ],
   "source": [
    "#Dependency on pclass\n",
    "Titanic_data.groupby(['Pclass','Survived'])['PassengerId'].count().unstack().plot(kind='bar',stacked=True)\n",
    "pylab.xlabel('Pclass')\n",
    "pylab.ylabel('Number of Passengers')\n",
    "pylab.title('Chart: Number of Passengers per Pclass')"
   ]
  },
  {
   "cell_type": "code",
   "execution_count": 125,
   "metadata": {
    "collapsed": false
   },
   "outputs": [
    {
     "data": {
      "image/png": "[encoded data removed]",
      "text/plain": [
       "<matplotlib.figure.Figure at 0xe26d400>"
      ]
     },
     "metadata": {},
     "output_type": "display_data"
    }
   ],
   "source": [
    "#The above chart shows that the percentage of survivors withing Pclass=1 group was higher compared to other groups. \n",
    "#Let's compare the number of survivors among different groups\n",
    "Titanic_data[Titanic_data['Survived']==1].groupby('Pclass')['PassengerId'].count().plot(kind='pie')\n",
    "pylab.title('Survival Distribution for Pclass')\n",
    "pylab.ylabel('')\n",
    "show()"
   ]
  },
  {
   "cell_type": "markdown",
   "metadata": {},
   "source": [
    "Inference: On an overall level, the number of survivors from Pclass=1 and Pclass=3 are almost similar \n",
    "but the total number of passengers for Pclass=3 was significantly more than number of passengers for Pclass=1"
   ]
  },
  {
   "cell_type": "markdown",
   "metadata": {},
   "source": [
    "Till now, we have been looking at one variable at a time. But the survival numbers of one variable may be affected by \n",
    "some other variable. For eg, in the above charts , we see that the survival ratio for Pclass=1 is higher compared to \n",
    "other classes. But that might be due to higher number of females and children in that class. So, in this section, we try \n",
    "to look at multiple variables at the same time and figure out if one is affected by the other."
   ]
  },
  {
   "cell_type": "code",
   "execution_count": 126,
   "metadata": {
    "collapsed": false
   },
   "outputs": [
    {
     "data": {
      "image/png": "[encoded data removed]",
      "text/plain": [
       "<matplotlib.figure.Figure at 0xe08a7f0>"
      ]
     },
     "metadata": {},
     "output_type": "display_data"
    },
    {
     "name": "stdout",
     "output_type": "stream",
     "text": [
      "Sex     female  male\n",
      "Pclass              \n",
      "1           91    45\n",
      "2           70    17\n",
      "3           72    47\n"
     ]
    }
   ],
   "source": [
    "#Now, all the variables are mainly categorical data and there is no measure other than the count of people.\n",
    "# A heat map may provide an interesting perspective to look at such data\n",
    "\n",
    "import matplotlib.pyplot as plt\n",
    "#arranging the data and filtering the survivors\n",
    "Titanic_pivot_survivors=pd.pivot_table(Titanic_data[Titanic_data['Survived']==1],index='Pclass',values='PassengerId',columns='Sex',aggfunc=np.size)\n",
    "plt.pcolor(Titanic_pivot_survivors)\n",
    "plt.yticks(np.arange(0.5, len(Titanic_pivot_survivors.index), 1), Titanic_pivot_survivors.index)\n",
    "plt.xticks(np.arange(0.5, len(Titanic_pivot_survivors.columns), 1), Titanic_pivot_survivors.columns)\n",
    "plt.xlabel('Gender')\n",
    "plt.ylabel('Pclass')\n",
    "plt.title('Heatmap:Pclass vs Gender')\n",
    "plt.show()\n",
    "print Titanic_pivot_survivors"
   ]
  },
  {
   "cell_type": "markdown",
   "metadata": {},
   "source": [
    "Inference: \n",
    "From the above plot, it is clear that first preference was given on the basis of Gender, and than on the basis of class.\n",
    "The interseting point to note here is that , for males , the number of survivors is a bit more for Pclass=3. And also, the overall survival numbers for Pclass=2 is less than Pclass=3. But this shouldn't be the case if preference was given based on class. \n",
    "\n",
    "The answer may lie in the total number of passengers in the various classes."
   ]
  },
  {
   "cell_type": "code",
   "execution_count": 127,
   "metadata": {
    "collapsed": false
   },
   "outputs": [],
   "source": [
    "Titanic_pivot_total=pd.pivot_table(Titanic_data,index='Pclass',values='PassengerId',columns='Sex',aggfunc=np.size)"
   ]
  },
  {
   "cell_type": "markdown",
   "metadata": {},
   "source": [
    " As expected , the number of passengers is much more in class3 compared to other classes. A better way to analyze may be to\n",
    "find the percentage of survivors within each category"
   ]
  },
  {
   "cell_type": "code",
   "execution_count": 128,
   "metadata": {
    "collapsed": false
   },
   "outputs": [
    {
     "data": {
      "image/png": "[encoded data removed]",
      "text/plain": [
       "<matplotlib.figure.Figure at 0xf00fa58>"
      ]
     },
     "metadata": {},
     "output_type": "display_data"
    }
   ],
   "source": [
    "Titanic_pivot_survivor_percentage=(Titanic_pivot_survivors/Titanic_pivot_total)*100\n",
    "plt.pcolor(Titanic_pivot_survivor_percentage)\n",
    "plt.yticks(np.arange(0.5, len(Titanic_pivot_survivor_percentage.index), 1), Titanic_pivot_survivor_percentage.index)\n",
    "plt.xticks(np.arange(0.5, len(Titanic_pivot_survivor_percentage.columns), 1), Titanic_pivot_survivor_percentage.columns)\n",
    "plt.xlabel('Gender')\n",
    "plt.ylabel('Pclass')\n",
    "plt.title('Heatmap Survivor Percentage:Pclass vs Gender ')\n",
    "plt.show()"
   ]
  },
  {
   "cell_type": "markdown",
   "metadata": {},
   "source": [
    "Analysis: Age with PClass"
   ]
  },
  {
   "cell_type": "code",
   "execution_count": 129,
   "metadata": {
    "collapsed": false
   },
   "outputs": [
    {
     "data": {
      "text/plain": [
       "Survived\n",
       "0    30.562012\n",
       "1    28.410122\n",
       "Name: Age, dtype: float64"
      ]
     },
     "execution_count": 129,
     "metadata": {},
     "output_type": "execute_result"
    }
   ],
   "source": [
    "# Lets find the mean age of survivors and non-survivors\n",
    "Titanic_data.groupby('Survived')['Age'].mean()\n"
   ]
  },
  {
   "cell_type": "markdown",
   "metadata": {},
   "source": [
    "Now, we see that the mean age of survivors is a little less than non-survivors. Lets try to understand whether the \n",
    "lower age helped the passengers survive."
   ]
  },
  {
   "cell_type": "code",
   "execution_count": 133,
   "metadata": {
    "collapsed": false
   },
   "outputs": [
    {
     "data": {
      "text/plain": [
       "<matplotlib.axes._subplots.AxesSubplot at 0xf973358>"
      ]
     },
     "execution_count": 133,
     "metadata": {},
     "output_type": "execute_result"
    },
    {
     "data": {
      "image/png": "[encoded data removed]",
      "text/plain": [
       "<matplotlib.figure.Figure at 0xec18a20>"
      ]
     },
     "metadata": {},
     "output_type": "display_data"
    }
   ],
   "source": [
    "Titanic_data.boxplot(column='Age' ,by='Pclass')"
   ]
  },
  {
   "cell_type": "markdown",
   "metadata": {},
   "source": [
    "Inference: So, we see that the mean age of passengers from Pclass=3 is a bit higher. So, it doesn't seem from the above graph\n",
    "that Pclass affected the survival of passengers with lower age. But , we cannot be sure about this data as we have substituted the missing age values with average age of men and women which might have shifted the actual mean."
   ]
  },
  {
   "cell_type": "markdown",
   "metadata": {},
   "source": [
    "We can also use the various hypothesis testing methodologies available to test the correlation among variables.\n",
    "In this section, lets try to use the Chi Square Test for Independence.\n",
    "The Chi Square test is appropriate when the following conditions are met:\n",
    "\n",
    "-The sampling method is simple random sampling.\n",
    "\n",
    "-The variables under study are each categorical.\n",
    "\n",
    "-If sample data are displayed in a contingency table, the expected frequency count for each cell of the table is at least 5\n",
    "\n",
    "Since most of our variables are categorical, this test seems appropriate.\n",
    "\n",
    "We will use this test to find if there is any correlation between Pclass and Survival\n",
    "\n",
    "There are mainly four steps of this test:\n",
    "\n",
    "    (1) state the hypotheses, (2) formulate an analysis plan, (3) analyze sample data, and (4) interpret results.\n",
    "    \n",
    "Step 1: State the hypotheses\n",
    "\n",
    "    The null and the alternative hypotheses are stated below:\n",
    "    \n",
    "        H0: Variable Pclass and Variable Survived are independent. \n",
    "        \n",
    "        Ha: Variable Pclass and Variable Survived are not independent.\n",
    "Step 2: Formulate an analysis plan\n",
    "\n",
    "    We chose the level of Significance=.05\n",
    "    \n",
    "    If the p-value is less than the level of significance, we will reject the null hypothesis.\n",
    "Step 3: Analyze sample data\n",
    "\n",
    "    Lets choose a random sample of 200 passengers.\n",
    "    \n"
   ]
  },
  {
   "cell_type": "code",
   "execution_count": 131,
   "metadata": {
    "collapsed": false
   },
   "outputs": [
    {
     "data": {
      "text/html": [
       "<div>\n",
       "<table border=\"1\" class=\"dataframe\">\n",
       "  <thead>\n",
       "    <tr style=\"text-align: right;\">\n",
       "      <th>Survived</th>\n",
       "      <th>0</th>\n",
       "      <th>1</th>\n",
       "    </tr>\n",
       "    <tr>\n",
       "      <th>Pclass</th>\n",
       "      <th></th>\n",
       "      <th></th>\n",
       "    </tr>\n",
       "  </thead>\n",
       "  <tbody>\n",
       "    <tr>\n",
       "      <th>1</th>\n",
       "      <td>13</td>\n",
       "      <td>34</td>\n",
       "    </tr>\n",
       "    <tr>\n",
       "      <th>2</th>\n",
       "      <td>25</td>\n",
       "      <td>22</td>\n",
       "    </tr>\n",
       "    <tr>\n",
       "      <th>3</th>\n",
       "      <td>79</td>\n",
       "      <td>27</td>\n",
       "    </tr>\n",
       "  </tbody>\n",
       "</table>\n",
       "</div>"
      ],
      "text/plain": [
       "Survived   0   1\n",
       "Pclass          \n",
       "1         13  34\n",
       "2         25  22\n",
       "3         79  27"
      ]
     },
     "execution_count": 131,
     "metadata": {},
     "output_type": "execute_result"
    }
   ],
   "source": [
    "# Choose a random subset of 200 records from Titanic_data\n",
    "import random\n",
    "Sample_data=Titanic_data.ix[random.sample(Titanic_data.index,200)]\n",
    "#Now, lets create a contingency table\n",
    "Sample_data_pivot=pd.pivot_table(Sample_data,index='Pclass',values='PassengerId',columns='Survived',aggfunc=np.size)\n",
    "Sample_data_pivot"
   ]
  },
  {
   "cell_type": "markdown",
   "metadata": {},
   "source": [
    "Now, degrees of freedom=(r-1)*(c-1)=2\n",
    "\n",
    "Now, we compute the expected frequency  for each level of one category at each level of another.\n",
    "\n",
    "E = (nr * nc) / n\n",
    "\n",
    "We first compute the row and column totals:\n",
    "\n",
    "    \tSurvived\t\n",
    "        \n",
    "Pclass\t0\t1\tTotal\n",
    "\n",
    "    1\t13\t34\t47\n",
    "    \n",
    "    2\t25\t22\t47\n",
    "    \n",
    "    3\t79\t27\t106\n",
    "    \n",
    "Total\t117\t83\t\n",
    "\n",
    "    \n",
    "E11=(47*117)/200\n",
    "\n",
    "E12=(47*83)/200\n",
    "\n",
    "E21=(47*117)/200\n",
    "\n",
    "E22=(47*83)/200\n",
    "\n",
    "E31=(106*117)/200\n",
    "\n",
    "E32=(106*83)/200\n",
    "\n",
    "Here is the Expectation table:\n",
    "\n",
    "\tSurvived\t\n",
    "    \n",
    " Pclass\t0       1\n",
    " \n",
    "    1\t27.495\t19.505\n",
    "    \n",
    "    2\t27.495\t19.505\n",
    "    \n",
    "    3\t62.01\t43.99\n",
    "\n",
    "Now, we calculate the Test Statistic:\n",
    "    \n",
    "Test statistic. The test statistic is a chi-square random variable (Χ2) defined by the following equation.\n",
    "\n",
    "Χ2 = Σ [ (Or,c - Er,c)^2 / Er,c ]\n",
    "\n",
    "where Or,c is the observed frequency count at level r of Variable A and level c of Variable B, and Er,c is the expected frequency count at level r of Variable A and level c of Variable B.\n",
    "\n",
    "So,\n",
    "\n",
    "X2=((13-27.495)^2)/27.495+((25-27.495)^2)/27.495+((79-62.01)^2)/62.01+((34-19.505)^2)/19.505+((22-19.505)^2)/19.505+((27-43.99)^2)/43.99\n",
    "\n",
    "X2=30.17599\n",
    "\n",
    "Now, we calculate the P-value using Chi Square Calculator\n",
    "\n",
    "P(X2>30.17599)=0\n",
    "\n",
    "So, we get a probability of 0.\n",
    "\n",
    "Hence, we reject the null hypothesis and it proves that Pclass and Survived variables are not independent.\n"
   ]
  },
  {
   "cell_type": "markdown",
   "metadata": {},
   "source": [
    "Conclusion: \n",
    "We have looked into the data in various ways to answer the questions we started with.\n",
    "We found that Survival percentage for children was high. The Age group 0-9 had survival percentage of 38.7 percent, which is much higher compared to other age groups\n",
    "From the box plots, we found that survival percentage for females is much higher than the males.\n",
    "From the Chi Square Test, it has been proved that, Survival and Pclass are not independent.\n",
    "\n",
    "Limitations:\n",
    "There were lots of null values in the Age data which we filled with mean age for men and women. This might have shifted the actual mean  for Age for the passengers. Hence, we could not look into the Age data with much confidence. A better approach might be to use K-means clustering to cluster the passengers and then assign the mean age of the clusters to the missing values."
   ]
  }
 ],
 "metadata": {
  "kernelspec": {
   "display_name": "Python 2",
   "language": "python",
   "name": "python2"
  },
  "language_info": {
   "codemirror_mode": {
    "name": "ipython",
    "version": 2
   },
   "file_extension": ".py",
   "mimetype": "text/x-python",
   "name": "python",
   "nbconvert_exporter": "python",
   "pygments_lexer": "ipython2",
   "version": "2.7.11"
  }
 },
 "nbformat": 4,
 "nbformat_minor": 0
}
